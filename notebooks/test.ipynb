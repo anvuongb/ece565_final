{
 "cells": [
  {
   "cell_type": "code",
   "execution_count": 69,
   "id": "1cc478a0-7915-4ce0-8be2-cdb8c97db154",
   "metadata": {},
   "outputs": [],
   "source": [
    "import numpy as np\n",
    "from scipy.stats import norm\n",
    "import matplotlib.pyplot as plt\n",
    "import tqdm"
   ]
  },
  {
   "cell_type": "code",
   "execution_count": 48,
   "id": "2fc9b9ca-ce9f-4c35-93a1-611024f59a79",
   "metadata": {},
   "outputs": [],
   "source": [
    "sigma = 1\n",
    "gamma_list = np.arange(0.1, 10.1, 0.1)\n",
    "N_sims = 200\n",
    "N_data = 2000"
   ]
  },
  {
   "cell_type": "code",
   "execution_count": 302,
   "id": "565a96b7-f68d-4325-a9c1-6dd9accd3ab9",
   "metadata": {},
   "outputs": [],
   "source": [
    "def crlb(sigma, N):\n",
    "    return sigma**2/N\n",
    "\n",
    "def mse(s_pred, s_true):\n",
    "    return np.mean(np.square(s_pred-s_true))\n",
    "\n",
    "def mle_estimate(X):\n",
    "    return np.mean(X)\n",
    "\n",
    "def map_estimate(X, sigma, gamma):\n",
    "    thresh = sigma**2/gamma\n",
    "    ind_pos = X > thresh\n",
    "    ind_neg = X < thresh\n",
    "    \n",
    "    s = np.zeros(X.shape)\n",
    "    s[ind_pos] = X[ind_pos] - thresh\n",
    "    s[ind_neg] = X[ind_neg] + thresh\n",
    "    return s\n",
    "\n",
    "def mmse_estimate(X, sigma, gamma):\n",
    "    const = np.exp(X/gamma + sigma**2/2/(gamma**2))*norm.cdf((-X-sigma**2/gamma)/sigma) +\\\n",
    "            np.exp(-X/gamma + sigma**2/2/(gamma**2))*norm.cdf((X-sigma**2/gamma)/sigma)\n",
    "    \n",
    "    expr1 = np.exp(X/gamma + sigma**2/2/(gamma**2))*((sigma/np.sqrt(2*np.pi))*\\\n",
    "            (0-np.exp(-1/2/(sigma**2)*(X+sigma**2/gamma)**2)) + (X + sigma**2/gamma) * norm.cdf((-X-sigma**2/gamma)/sigma))\n",
    "    expr2 = -np.exp(-X/gamma + sigma**2/2/(gamma**2))*((sigma/np.sqrt(2*np.pi))*\\\n",
    "            (0-np.exp(-1/2/(sigma**2)*(X-sigma**2/gamma)**2)) - (X - sigma**2/gamma) * norm.cdf((X-sigma**2/gamma)/sigma))\n",
    "    # print(const)\n",
    "    # print(expr1)\n",
    "    # print(expr2)\n",
    "    return (expr1 + expr2)/const\n",
    "\n",
    "\n",
    "\n"
   ]
  },
  {
   "cell_type": "code",
   "execution_count": 303,
   "id": "16d645e4-d42c-435b-8868-50ff84fccc84",
   "metadata": {},
   "outputs": [
    {
     "data": {
      "text/plain": [
       "array([-16.47931003,  -3.33043126,   4.5782412 , ...,  12.91080475,\n",
       "        -0.08623338,   4.54049849])"
      ]
     },
     "execution_count": 303,
     "metadata": {},
     "output_type": "execute_result"
    }
   ],
   "source": [
    "mmse_estimate(x, sigma, gamma)"
   ]
  },
  {
   "cell_type": "code",
   "execution_count": 304,
   "id": "62a55cda-c3df-4076-a18a-c3ece321b3c7",
   "metadata": {},
   "outputs": [
    {
     "data": {
      "text/plain": [
       "0.21883856769886897"
      ]
     },
     "execution_count": 304,
     "metadata": {},
     "output_type": "execute_result"
    }
   ],
   "source": [
    "mle_estimate(x)"
   ]
  },
  {
   "cell_type": "code",
   "execution_count": 305,
   "id": "adc94d88-abda-4d85-9598-02dac0406147",
   "metadata": {},
   "outputs": [
    {
     "data": {
      "text/plain": [
       "array([-1.64793100e+01, -3.33034885e+00,  4.57824075e+00, ...,\n",
       "        1.29108048e+01,  6.65736185e-03,  4.54049795e+00])"
      ]
     },
     "execution_count": 305,
     "metadata": {},
     "output_type": "execute_result"
    }
   ],
   "source": [
    "map_estimate(x, sigma, gamma)"
   ]
  },
  {
   "cell_type": "code",
   "execution_count": 306,
   "id": "6ef2880a-0730-4fc7-87c7-2bb0c221eba1",
   "metadata": {},
   "outputs": [
    {
     "data": {
      "text/plain": [
       "array([-14.80309886,  -2.01130609,   5.96278432, ...,  13.50402075,\n",
       "        -0.64394264,   7.10301212])"
      ]
     },
     "execution_count": 306,
     "metadata": {},
     "output_type": "execute_result"
    }
   ],
   "source": [
    "s"
   ]
  },
  {
   "cell_type": "code",
   "execution_count": 307,
   "id": "507d7de4-6e98-4b9b-9349-160e0ba9aab9",
   "metadata": {},
   "outputs": [
    {
     "name": "stderr",
     "output_type": "stream",
     "text": [
      "100%|█████████████████████████████████████████| 100/100 [00:16<00:00,  5.98it/s]\n"
     ]
    }
   ],
   "source": [
    "crlb = sigma**2/N_data\n",
    "mse_mle_ret = []\n",
    "mse_map_ret = []\n",
    "mse_mmse_ret = []\n",
    "\n",
    "for gamma in tqdm.tqdm(gamma_list):\n",
    "    mse_mle = []\n",
    "    mse_map = []\n",
    "    mse_mmse = []\n",
    "\n",
    "    for i in range(N_sims):\n",
    "        n = np.random.randn(N_data)*sigma\n",
    "        s = np.random.laplace(scale=gamma, size=N_data)\n",
    "        x = n + s\n",
    "\n",
    "        s_mle = mle_estimate(x)\n",
    "        s_map = map_estimate(x, sigma, gamma)\n",
    "        s_mmse = mmse_estimate(x, sigma, gamma)\n",
    "\n",
    "        mse_mle.append(mse(s_mle, s))\n",
    "        mse_map.append(mse(s_map, s))\n",
    "        mse_mmse.append(mse(s_mmse, s))\n",
    "    \n",
    "    mse_mle_ret.append(np.mean(mse_mle))\n",
    "    mse_map_ret.append(np.mean(mse_map))\n",
    "    mse_mmse_ret.append(np.mean(mse_mmse))"
   ]
  },
  {
   "cell_type": "code",
   "execution_count": 308,
   "id": "4e006d9b-334a-43a5-abb7-4539c1913b85",
   "metadata": {},
   "outputs": [
    {
     "data": {
      "image/png": "[encoded data removed]",
      "text/plain": [
       "<Figure size 576x432 with 1 Axes>"
      ]
     },
     "metadata": {
      "needs_background": "light"
     },
     "output_type": "display_data"
    }
   ],
   "source": [
    "gamma_arr = np.array(gamma_list)**2/(sigma**2)\n",
    "\n",
    "fig = plt.figure(figsize=(8,6))\n",
    "plt.plot(gamma_arr, np.repeat(crlb, len(gamma_arr)), label=\"CRLB\")\n",
    "plt.plot(gamma_arr, mse_map_ret, label=\"MAP estimates\")\n",
    "plt.plot(gamma_arr, mse_mle_ret, label=\"MLE estimates\")\n",
    "plt.plot(gamma_arr, mse_mmse_ret, label=\"MMSE estimates\")\n",
    "plt.legend()\n",
    "plt.yscale(\"log\")\n",
    "plt.xscale(\"log\")\n",
    "plt.xlabel(\"SNR ($\\gamma^{2}/\\sigma^{2}$)\")\n",
    "plt.ylabel(\"MSE\")\n",
    "plt.grid(True)\n",
    "plt.title(\"MSE vs $\\gamma^{2}/\\sigma^{2}$\")\n",
    "plt.show()"
   ]
  },
  {
   "cell_type": "markdown",
   "id": "e91142d3-a1b8-493b-8e59-6bbe8675c06c",
   "metadata": {},
   "source": [
    "try using an image, then apply wavelet, then denoise using these estimates, then convert back"
   ]
  },
  {
   "cell_type": "markdown",
   "id": "c4480e75-77d5-4e6c-91ef-7a64ea3f7a71",
   "metadata": {},
   "source": [
    "## Gradient ascent for gamma, sigma"
   ]
  },
  {
   "cell_type": "code",
   "execution_count": 496,
   "id": "44d4ac55-7b4a-48ef-ad40-e8256bc4e38c",
   "metadata": {},
   "outputs": [],
   "source": [
    "def grad_gamma(X, gamma, sigma):\n",
    "    N = len(X)\n",
    "    \n",
    "    num1 = -X/(gamma**2)*np.exp(X/gamma)*norm.cdf((-X-sigma**2/gamma)/sigma) +\\\n",
    "            sigma/(gamma**2)*np.exp(X/gamma)*1/np.sqrt(2*np.pi)*np.exp(-1/2*((-X-sigma**2/gamma)/sigma)**2)\n",
    "    \n",
    "    num2 = X/(gamma**2)*np.exp(-X/gamma)*norm.cdf((X-sigma**2/gamma)/sigma) +\\\n",
    "            sigma/(gamma**2)*np.exp(-X/gamma)*1/np.sqrt(2*np.pi)*np.exp(-1/2*((X-sigma**2/gamma)/sigma)**2)\n",
    "    \n",
    "    denom = np.exp(X/gamma)*norm.cdf((-X-sigma**2/gamma)/sigma) +\\\n",
    "            np.exp(-X/gamma)*norm.cdf((X-sigma**2/gamma)/sigma)\n",
    "    \n",
    "    grad = -N/gamma - N*(sigma**2)/(gamma**3) + np.sum((num1 + num2)/denom)\n",
    "    \n",
    "    return grad\n",
    "\n",
    "def grad_sigma(X, gamma, sigma):\n",
    "    N = len(X)\n",
    "    \n",
    "    num1 = 1/np.sqrt(2*np.pi)*(X/(sigma**2)-1/gamma)*np.exp(X/gamma)*np.exp(-1/2*((-X-sigma**2/gamma)/sigma)**2)\n",
    "    \n",
    "    num2 = -1/np.sqrt(2*np.pi)*(X/(sigma**2)+1/gamma)*np.exp(-X/gamma)*np.exp(-1/2*((X-sigma**2/gamma)/sigma)**2)\n",
    "    \n",
    "    denom = np.exp(X/gamma)*norm.cdf((-X-sigma**2/gamma)/sigma) +\\\n",
    "            np.exp(-X/gamma)*norm.cdf((X-sigma**2/gamma)/sigma)\n",
    "    \n",
    "    grad = N*sigma/(gamma**2) + np.sum((num1 + num2)/denom)\n",
    "    \n",
    "    return grad\n",
    "    \n",
    "def ml_estimate_sigma_gamma(X, gamma_init, sigma_init, \n",
    "                            max_steps=200, step_size=0.001):\n",
    "    gamma_curr = gamma_init\n",
    "    gamma_curr_ = gamma_init\n",
    "    gamma_list = []\n",
    "    gamma_list.append(gamma_curr)\n",
    "\n",
    "    sigma_curr = sigma_init\n",
    "    sigma_curr_ = sigma_init\n",
    "    sigma_list = []\n",
    "    sigma_list.append(sigma_curr)\n",
    "\n",
    "    for i in tqdm.tqdm(np.arange(max_steps)):\n",
    "        for j in range(3):\n",
    "            grad_gamma_ = grad_gamma(X, gamma_curr_, sigma_curr)\n",
    "            # only update if gradients are not too small\n",
    "            if np.abs(grad_gamma_) >= early_stopping_ratio*np.abs(gamma_curr_):\n",
    "                gamma_curr_ = gamma_curr_ + step_size*grad_gamma_\n",
    "            else:\n",
    "                break\n",
    "        gamma_curr = gamma_curr_\n",
    "        gamma_list.append(gamma_curr)\n",
    "        \n",
    "        for j in range(3):        \n",
    "            grad_sigma_ = grad_sigma(X, gamma_curr, sigma_curr_)\n",
    "            # only update if gradients are not too small\n",
    "            if np.abs(grad_sigma_) >= early_stopping_ratio*np.abs(sigma_curr_):\n",
    "                sigma_curr_ = sigma_curr_ + step_size*grad_sigma_\n",
    "            else:\n",
    "                break\n",
    "        sigma_curr = sigma_curr_\n",
    "        sigma_list.append(sigma_curr)\n",
    "    \n",
    "    return gamma_curr, sigma_curr, gamma_list, sigma_list\n"
   ]
  },
  {
   "cell_type": "code",
   "execution_count": 502,
   "id": "0c278f9a-de76-4aea-97e3-3a065016b80f",
   "metadata": {},
   "outputs": [],
   "source": [
    "sigma = 1\n",
    "gamma = 5\n",
    "n = np.random.randn(N_data)*sigma\n",
    "s = np.random.laplace(scale=gamma, size=N_data)\n",
    "x = n + s"
   ]
  },
  {
   "cell_type": "code",
   "execution_count": 500,
   "id": "a2644ee5-c2fb-4d73-850b-a39619e57dcc",
   "metadata": {},
   "outputs": [
    {
     "name": "stdout",
     "output_type": "stream",
     "text": [
      "1.636461860603365\n",
      "5.391698337955077\n"
     ]
    }
   ],
   "source": [
    "sigma_init = sigma + np.random.randn()\n",
    "while sigma_init < 0:\n",
    "    sigma_init = sigma + np.random.randn()\n",
    "\n",
    "print(sigma_init)\n",
    "\n",
    "gamma_init = gamma + np.random.randn()\n",
    "while gamma_init < 0:\n",
    "    gamma_init = gamma + np.random.randn()\n",
    "\n",
    "print(gamma_init)"
   ]
  },
  {
   "cell_type": "code",
   "execution_count": 503,
   "id": "859f4dda-2e79-4ff0-aa2f-d4b488cb2bae",
   "metadata": {},
   "outputs": [
    {
     "name": "stderr",
     "output_type": "stream",
     "text": [
      "100%|██████████████████████████████████████| 1000/1000 [00:01<00:00, 585.52it/s]\n"
     ]
    },
    {
     "name": "stdout",
     "output_type": "stream",
     "text": [
      "0.942070322460952\n",
      "4.9419369967505835\n"
     ]
    },
    {
     "data": {
      "image/png": "[encoded data removed]",
      "text/plain": [
       "<Figure size 432x288 with 1 Axes>"
      ]
     },
     "metadata": {
      "needs_background": "light"
     },
     "output_type": "display_data"
    },
    {
     "data": {
      "image/png": "[encoded data removed]",
      "text/plain": [
       "<Figure size 432x288 with 1 Axes>"
      ]
     },
     "metadata": {
      "needs_background": "light"
     },
     "output_type": "display_data"
    }
   ],
   "source": [
    "gamma_curr, sigma_curr, gamma_list, sigma_list = ml_estimate_sigma_gamma(x, gamma_init, sigma_init, max_steps=1000)\n",
    "print(sigma_curr)\n",
    "print(gamma_curr)\n",
    "\n",
    "plt.plot(gamma_list)\n",
    "plt.show()\n",
    "plt.plot(sigma_list)\n",
    "plt.show()"
   ]
  },
  {
   "cell_type": "code",
   "execution_count": 9,
   "id": "9840bc5d-31d3-4a5f-816f-7f22735df546",
   "metadata": {},
   "outputs": [],
   "source": [
    "from scipy.optimize import line_search\n",
    "import numpy as np\n",
    "from scipy.stats import norm"
   ]
  },
  {
   "cell_type": "code",
   "execution_count": 370,
   "id": "508dfe81-5872-4aae-927d-e0d61ca4a401",
   "metadata": {},
   "outputs": [],
   "source": [
    "def grad_gamma(init_point, X):\n",
    "    gamma, sigma = init_point[0], init_point[1]\n",
    "    N = len(X)\n",
    "    \n",
    "    num1 = -X/(gamma**2)*np.exp(X/gamma)*norm.cdf((-X-sigma**2/gamma)/sigma) +\\\n",
    "            sigma/(gamma**2)*np.exp(X/gamma)*1/np.sqrt(2*np.pi)*np.exp(-1/2*((-X-sigma**2/gamma)/sigma)**2)\n",
    "    \n",
    "    num2 = X/(gamma**2)*np.exp(-X/gamma)*norm.cdf((X-sigma**2/gamma)/sigma) +\\\n",
    "            sigma/(gamma**2)*np.exp(-X/gamma)*1/np.sqrt(2*np.pi)*np.exp(-1/2*((X-sigma**2/gamma)/sigma)**2)\n",
    "    \n",
    "    denom = np.exp(X/gamma)*norm.cdf((-X-sigma**2/gamma)/sigma) +\\\n",
    "            np.exp(-X/gamma)*norm.cdf((X-sigma**2/gamma)/sigma)\n",
    "    \n",
    "    grad = -N/gamma - N*(sigma**2)/(gamma**3) + np.sum((num1 + num2)/denom)\n",
    "    \n",
    "    return grad\n",
    "\n",
    "def grad_sigma(init_point, X):\n",
    "    gamma, sigma = init_point[0], init_point[1]\n",
    "    N = len(X)\n",
    "    \n",
    "    num1 = 1/np.sqrt(2*np.pi)*(X/(sigma**2)-1/gamma)*np.exp(X/gamma)*np.exp(-1/2*((-X-sigma**2/gamma)/sigma)**2)\n",
    "    \n",
    "    num2 = -1/np.sqrt(2*np.pi)*(X/(sigma**2)+1/gamma)*np.exp(-X/gamma)*np.exp(-1/2*((X-sigma**2/gamma)/sigma)**2)\n",
    "    \n",
    "    denom = np.exp(X/gamma)*norm.cdf((-X-sigma**2/gamma)/sigma) +\\\n",
    "            np.exp(-X/gamma)*norm.cdf((X-sigma**2/gamma)/sigma)\n",
    "    \n",
    "    grad = N*sigma/(gamma**2) + np.sum((num1 + num2)/denom)\n",
    "    \n",
    "    return grad\n",
    "\n",
    "def grad_total(init_point, X):\n",
    "    v = np.array([grad_gamma(init_point, X), grad_sigma(init_point, X)])\n",
    "    return -v\n",
    "\n",
    "def ml_objective_gamma_sigma(init_point, X):\n",
    "    gamma, sigma = init_point[0], init_point[1]\n",
    "    N = len(X)\n",
    "    \n",
    "    sum1 = N*np.log(1/2/gamma)\n",
    "    sum2 = N*sigma**2//2/(gamma**2)\n",
    "    sum3 = np.log(np.exp(X/gamma)*norm.cdf((-X-sigma**2/gamma)/sigma) + np.exp(-X/gamma)*norm.cdf((X-sigma**2/gamma)/sigma))\n",
    "    sum3 = np.sum(sum3)\n",
    "    \n",
    "    return -(sum1 + sum2 + sum3)"
   ]
  },
  {
   "cell_type": "code",
   "execution_count": 371,
   "id": "53b2874d-4509-4ecd-9c3b-8d145f215249",
   "metadata": {},
   "outputs": [],
   "source": [
    "def gradient_descent_line_search(gamma_init, sigma_init, X, steps=50, default_alpha=0.001):\n",
    "    init_point = np.array([gamma_init, sigma_init])\n",
    "    \n",
    "    try:\n",
    "        # first run outside loop\n",
    "        curr_point = init_point\n",
    "        old_fval = ml_objective_gamma_sigma(curr_point, X)\n",
    "        d = grad_total(curr_point, X)\n",
    "        delta = -d/np.linalg.norm(d)\n",
    "        alpha, _, _, _, _, _ = line_search(ml_objective_gamma_sigma, grad_total, curr_point, delta, args=([X]))\n",
    "        new_point = init_point + alpha*delta\n",
    "        new_fval = ml_objective_gamma_sigma(new_point, X)\n",
    "        curr_point = new_point\n",
    "\n",
    "        for i in range(steps-1):\n",
    "            d = grad_total(curr_point, X)\n",
    "            delta = -d/np.linalg.norm(d)\n",
    "            new_alpha, _, _, new_fval, old_fval, _ = line_search(ml_objective_gamma_sigma, grad_total, curr_point, delta, args=([X]), old_fval=new_fval, old_old_fval=old_fval)\n",
    "            if new_alpha is not None:\n",
    "                new_point = curr_point + new_alpha*delta\n",
    "            else:\n",
    "                new_point = curr_point + default_alpha*delta\n",
    "            curr_point = new_point\n",
    "        if curr_point[0] == np.nan or curr_point[1] == np.nan:\n",
    "            return None, None\n",
    "        return curr_point[0], curr_point[1]\n",
    "    except Exception as e:\n",
    "        print(e)\n",
    "        return None, None"
   ]
  },
  {
   "cell_type": "code",
   "execution_count": 372,
   "id": "febcafbf-27a6-4072-abb2-c61fc9d65aef",
   "metadata": {},
   "outputs": [],
   "source": [
    "sigma = 1\n",
    "gamma_list = np.arange(0.1, 10.1, 0.1)\n",
    "N_sims = 200\n",
    "N_data = 2000\n",
    "gamma = 5\n",
    "n = np.random.randn(N_data)*sigma\n",
    "s = np.random.laplace(scale=gamma, size=N_data)\n",
    "X = n + s"
   ]
  },
  {
   "cell_type": "code",
   "execution_count": 373,
   "id": "a10c92cc-ed60-42e5-a366-9a3aae7c6279",
   "metadata": {},
   "outputs": [
    {
     "name": "stdout",
     "output_type": "stream",
     "text": [
      "5.898705373493206 1.6131167000090305\n"
     ]
    }
   ],
   "source": [
    "gamma_init = gamma + np.random.randn()\n",
    "while gamma_init < 0:\n",
    "    gamma_init = gamma + np.random.randn()\n",
    "    \n",
    "sigma_init = sigma + np.random.randn()\n",
    "while sigma_init < 0:\n",
    "    sigma_init = sigma + np.random.randn()\n",
    "print(gamma_init, sigma_init)"
   ]
  },
  {
   "cell_type": "code",
   "execution_count": 374,
   "id": "4a9ba3e7-47b2-4a75-873c-802dd6c9d813",
   "metadata": {},
   "outputs": [
    {
     "name": "stderr",
     "output_type": "stream",
     "text": [
      "/home/anvuong/miniconda3/envs/tf2/lib/python3.10/site-packages/scipy/optimize/_linesearch.py:305: LineSearchWarning: The line search algorithm did not converge\n",
      "  warn('The line search algorithm did not converge', LineSearchWarning)\n"
     ]
    }
   ],
   "source": [
    "gamma_est, sigma_est = gradient_descent_line_search(gamma_init, sigma_init, X, steps=50, default_alpha=0.001)"
   ]
  },
  {
   "cell_type": "code",
   "execution_count": 375,
   "id": "abe61ddc-e105-4ace-aebb-f22faca88162",
   "metadata": {},
   "outputs": [
    {
     "data": {
      "text/plain": [
       "(5.124174427044595, 0.8482489636656858)"
      ]
     },
     "execution_count": 375,
     "metadata": {},
     "output_type": "execute_result"
    }
   ],
   "source": [
    "gamma_est, sigma_est"
   ]
  },
  {
   "cell_type": "code",
   "execution_count": 376,
   "id": "de36f26e-debb-4e0a-9e9a-fdfca5b6ca6b",
   "metadata": {},
   "outputs": [
    {
     "data": {
      "text/plain": [
       "nan"
      ]
     },
     "execution_count": 376,
     "metadata": {},
     "output_type": "execute_result"
    }
   ],
   "source": [
    "np.mean([1,2,np.nan])"
   ]
  },
  {
   "cell_type": "code",
   "execution_count": 321,
   "id": "696e7aed-1ff5-4a72-8909-ded5484750a4",
   "metadata": {},
   "outputs": [],
   "source": [
    "z = np.array([1,2,3,np.nan])"
   ]
  },
  {
   "cell_type": "code",
   "execution_count": 323,
   "id": "95b7a191-5b48-45ce-a634-1d8cde38435d",
   "metadata": {},
   "outputs": [
    {
     "data": {
      "text/plain": [
       "array([False, False, False,  True])"
      ]
     },
     "execution_count": 323,
     "metadata": {},
     "output_type": "execute_result"
    }
   ],
   "source": [
    "np.isnan(z)"
   ]
  },
  {
   "cell_type": "code",
   "execution_count": 324,
   "id": "eed6234d-4b3f-4fd9-a431-94d61baffae4",
   "metadata": {},
   "outputs": [],
   "source": [
    "[[0.1, 0.9936469301927782, 0.9936469301927782, 0.04018490916874412], [1.1, 0.9935080592453627, 0.9935080592453627, 0.6756340721895928], [2.1, 0.9935298775824565, 0.9935298775824565, 0.8640112748765005], [3.1, 0.9935695130722207, 0.9935695130722207, 0.9273072121241852], [4.1, 0.9940401962558691, 0.9940401962558691, 0.953717175844004], [5.1, 0.9939884729883532, 0.9939884729883532, 0.9706358414338454], [6.1, 0.9938971609540923, 0.9938971609540923, 0.9789984761855114], [7.1, 0.9933434098496111, 0.9933434098496111, 0.9932721427427725], [8.1, 0.993629067787905, 0.993629067787905, 10.34710207057684], [9.1, 0.9933759109881551, 0.9933759109881551, 1.0359807207836191]]"
   ]
  },
  {
   "cell_type": "code",
   "execution_count": 327,
   "id": "4ce0e09d-d5e6-4e8c-86fb-3ce1f95384b9",
   "metadata": {},
   "outputs": [],
   "source": [
    "from helpers import *"
   ]
  },
  {
   "cell_type": "code",
   "execution_count": 377,
   "id": "0e39cb72-b578-455d-bae7-790e638b8d9f",
   "metadata": {},
   "outputs": [],
   "source": [
    "n = np.random.randn(N_data)*sigma\n",
    "s = np.random.laplace(scale=gamma, size=N_data)\n",
    "x = n + s\n",
    "\n",
    "s_mle = mle_estimate(x)\n",
    "s_map = map_estimate(x, sigma, gamma)\n",
    "s_mmse = mmse_estimate(x, sigma, gamma)"
   ]
  },
  {
   "cell_type": "code",
   "execution_count": 329,
   "id": "2613acc3-5a1a-4687-aaa1-c670a08cccf9",
   "metadata": {},
   "outputs": [
    {
     "data": {
      "text/plain": [
       "(2000, 200)"
      ]
     },
     "execution_count": 329,
     "metadata": {},
     "output_type": "execute_result"
    }
   ],
   "source": [
    "s_mle.shape"
   ]
  },
  {
   "cell_type": "code",
   "execution_count": 331,
   "id": "9214c242-1c36-4012-97f0-162641919870",
   "metadata": {},
   "outputs": [
    {
     "data": {
      "text/plain": [
       "(200,)"
      ]
     },
     "execution_count": 331,
     "metadata": {},
     "output_type": "execute_result"
    }
   ],
   "source": [
    "np.mean(s_mle, axis=0)"
   ]
  },
  {
   "cell_type": "code",
   "execution_count": 335,
   "id": "bf111d36-3cb2-4b58-a89e-b62600ef4488",
   "metadata": {},
   "outputs": [
    {
     "data": {
      "text/plain": [
       "3.982241310307936"
      ]
     },
     "execution_count": 335,
     "metadata": {},
     "output_type": "execute_result"
    }
   ],
   "source": [
    "gamma_init"
   ]
  },
  {
   "cell_type": "code",
   "execution_count": 378,
   "id": "88348a88-aa75-4cd2-b9aa-6bbab3e3dec1",
   "metadata": {},
   "outputs": [
    {
     "name": "stderr",
     "output_type": "stream",
     "text": [
      "/tmp/ipykernel_1602/3150404770.py:41: RuntimeWarning: invalid value encountered in log\n",
      "  sum1 = N*np.log(1/2/gamma)\n",
      "/home/anvuong/miniconda3/envs/tf2/lib/python3.10/site-packages/scipy/optimize/_linesearch.py:456: LineSearchWarning: The line search algorithm did not converge\n",
      "  warn('The line search algorithm did not converge', LineSearchWarning)\n",
      "/tmp/ipykernel_1602/3150404770.py:43: RuntimeWarning: divide by zero encountered in log\n",
      "  sum3 = np.log(np.exp(X/gamma)*norm.cdf((-X-sigma**2/gamma)/sigma) + np.exp(-X/gamma)*norm.cdf((X-sigma**2/gamma)/sigma))\n",
      "/tmp/ipykernel_1602/3150404770.py:14: RuntimeWarning: divide by zero encountered in divide\n",
      "  grad = -N/gamma - N*(sigma**2)/(gamma**3) + np.sum((num1 + num2)/denom)\n",
      "/tmp/ipykernel_1602/3150404770.py:29: RuntimeWarning: invalid value encountered in divide\n",
      "  grad = N*sigma/(gamma**2) + np.sum((num1 + num2)/denom)\n",
      "/tmp/ipykernel_1602/3150404770.py:14: RuntimeWarning: invalid value encountered in divide\n",
      "  grad = -N/gamma - N*(sigma**2)/(gamma**3) + np.sum((num1 + num2)/denom)\n"
     ]
    }
   ],
   "source": [
    "while gamma_est_ is None or gamma_est_ == np.nan or gamma_est_ < 0 or sigma_est_ is None or sigma_est_ == np.nan or sigma_est_ < 0:\n",
    "    # estimate hyper parameters\n",
    "    gamma_init = gamma + np.random.randn()\n",
    "    while gamma_init <= 0:\n",
    "        gamma_init = gamma + np.random.randn()\n",
    "\n",
    "    sigma_init = sigma + np.random.randn()\n",
    "    while sigma_init <= 0:\n",
    "        sigma_init = sigma + np.sqrt(0.1)*np.random.randn() # variance 0.1\n",
    "\n",
    "    gamma_est_, sigma_est_ = gradient_descent_line_search(gamma_init, sigma_init, x, steps=50, default_alpha=0.001)"
   ]
  },
  {
   "cell_type": "code",
   "execution_count": 379,
   "id": "841655c5-e99e-4d56-92ce-86fc72bc2e57",
   "metadata": {},
   "outputs": [
    {
     "data": {
      "text/plain": [
       "(2.0050876636625903, 6.3875904365304415)"
      ]
     },
     "execution_count": 379,
     "metadata": {},
     "output_type": "execute_result"
    }
   ],
   "source": [
    "sigma_init, gamma_init"
   ]
  },
  {
   "cell_type": "code",
   "execution_count": 380,
   "id": "2a4bce2b-9fce-48d2-ade3-439380f97ee4",
   "metadata": {},
   "outputs": [
    {
     "data": {
      "text/plain": [
       "(5.338521770045988, 0.6060639198181407)"
      ]
     },
     "execution_count": 380,
     "metadata": {},
     "output_type": "execute_result"
    }
   ],
   "source": [
    "gamma_est_, sigma_est_"
   ]
  },
  {
   "cell_type": "code",
   "execution_count": 343,
   "id": "5e7a0b9d-191d-4ece-bb65-3c37e50f8c56",
   "metadata": {},
   "outputs": [
    {
     "data": {
      "text/plain": [
       "(None, None)"
      ]
     },
     "execution_count": 343,
     "metadata": {},
     "output_type": "execute_result"
    }
   ],
   "source": [
    "gradient_descent_line_search(gamma_init, sigma_init, x, steps=50, default_alpha=0.001)"
   ]
  },
  {
   "cell_type": "code",
   "execution_count": 386,
   "id": "d9218a12-219d-4c47-b75d-90399df80d90",
   "metadata": {},
   "outputs": [
    {
     "name": "stdout",
     "output_type": "stream",
     "text": [
      "0\n",
      "6748.170722693054\n",
      "5.126375555419514 0.36056843806479055\n",
      "5.33850000518974 0.6060586750163264\n",
      "1\n"
     ]
    },
    {
     "name": "stderr",
     "output_type": "stream",
     "text": [
      "/tmp/ipykernel_1602/3150404770.py:41: RuntimeWarning: invalid value encountered in log\n",
      "  sum1 = N*np.log(1/2/gamma)\n",
      "/tmp/ipykernel_1602/3150404770.py:43: RuntimeWarning: divide by zero encountered in log\n",
      "  sum3 = np.log(np.exp(X/gamma)*norm.cdf((-X-sigma**2/gamma)/sigma) + np.exp(-X/gamma)*norm.cdf((X-sigma**2/gamma)/sigma))\n",
      "/tmp/ipykernel_1602/3150404770.py:14: RuntimeWarning: invalid value encountered in divide\n",
      "  grad = -N/gamma - N*(sigma**2)/(gamma**3) + np.sum((num1 + num2)/denom)\n",
      "/tmp/ipykernel_1602/3150404770.py:29: RuntimeWarning: invalid value encountered in divide\n",
      "  grad = N*sigma/(gamma**2) + np.sum((num1 + num2)/denom)\n"
     ]
    },
    {
     "name": "stdout",
     "output_type": "stream",
     "text": [
      "5.534458029431249 1.2277367636551049\n",
      "5.33850000518974 0.6060586750163264\n",
      "2\n",
      "6748.168386381218\n",
      "5.019532205908498 0.9700396333589878\n",
      "5.337946280395406 0.6060031365756463\n",
      "3\n",
      "4.83940301110659 1.8883130800733885\n",
      "5.337946280395406 0.6060031365756463\n",
      "4\n",
      "4.328871819874208 1.3026046833249803\n",
      "5.337946280395406 0.6060031365756463\n"
     ]
    }
   ],
   "source": [
    "obj_min = np.inf\n",
    "gamma_est, sigma_est = -1, -1\n",
    "# run MML estimations a few times and pick the pair that maximize the likelihood\n",
    "for i in range(5):\n",
    "    print(i)\n",
    "    gamma_est_, sigma_est_ = -1, -1\n",
    "    while gamma_est_ is None or gamma_est_ == np.nan or gamma_est_ < 0 or sigma_est_ is None or sigma_est_ == np.nan or sigma_est_ < 0:\n",
    "        # estimate hyper parameters\n",
    "        gamma_init = gamma + np.random.randn()\n",
    "        while gamma_init <= 0:\n",
    "            gamma_init = gamma + np.random.randn()\n",
    "\n",
    "        sigma_init = sigma + np.random.randn()\n",
    "        while sigma_init <= 0:\n",
    "            sigma_init = sigma + np.sqrt(0.1)*np.random.randn() # variance 0.1\n",
    "\n",
    "        gamma_est_, sigma_est_ = gradient_descent_line_search(gamma_init, sigma_init, x, steps=50, default_alpha=0.001)\n",
    "    obj = ml_objective_gamma_sigma([gamma_est_, sigma_est_], x)\n",
    "    if obj < obj_min:\n",
    "        print(obj)\n",
    "        obj_min = obj\n",
    "        gamma_est, sigma_est = gamma_est_, sigma_est_\n",
    "    print(gamma_init, sigma_init)\n",
    "    print(gamma_est, sigma_est)"
   ]
  },
  {
   "cell_type": "code",
   "execution_count": 384,
   "id": "ef022bc9-7bc5-4ca7-95be-facb55bb78fe",
   "metadata": {},
   "outputs": [
    {
     "data": {
      "text/plain": [
       "(5.3383394012976195, 0.6060299605489308)"
      ]
     },
     "execution_count": 384,
     "metadata": {},
     "output_type": "execute_result"
    }
   ],
   "source": [
    "gamma_est, sigma_est"
   ]
  },
  {
   "cell_type": "code",
   "execution_count": 435,
   "id": "f8dfbad5-de8c-4d7b-b70e-ecde5433f95e",
   "metadata": {},
   "outputs": [],
   "source": [
    "def mle_gamma(X):\n",
    "    return np.mean(np.abs(X), axis=0)\n",
    "\n",
    "def crlb_gamma(N, gamma):\n",
    "    FIM = N/(gamma**2)\n",
    "    return 1/FIM"
   ]
  },
  {
   "cell_type": "code",
   "execution_count": 436,
   "id": "518d66d1-8e6b-425e-b462-a3d8300c7d24",
   "metadata": {},
   "outputs": [
    {
     "data": {
      "text/plain": [
       "10.941723650803285"
      ]
     },
     "execution_count": 436,
     "metadata": {},
     "output_type": "execute_result"
    }
   ],
   "source": [
    "mle_gamma(x)"
   ]
  },
  {
   "cell_type": "code",
   "execution_count": 437,
   "id": "07c70c02-9bc1-4f2a-9f90-007d758ed9e8",
   "metadata": {},
   "outputs": [
    {
     "name": "stderr",
     "output_type": "stream",
     "text": [
      "100%|█████████████████████████████████████████████████████████████████████████████████████████████████████████| 99/99 [00:00<00:00, 261.66it/s]\n"
     ]
    }
   ],
   "source": [
    "gamma_hats = []\n",
    "gamma = 10\n",
    "crlb_ = crlb_gamma(200, gamma)\n",
    "for N_data in tqdm.tqdm(range(10, 1000, 10)):\n",
    "    gamma_hats_ = []\n",
    "    for sim in range(200):\n",
    "        x = np.random.laplace(scale=gamma, size=200)\n",
    "        crlbs_.append(crlb_gamma(x, gamma))\n",
    "        gamma_hats_.append((mle_gamma(x) - gamma)**2)\n",
    "    gamma_hats.append(np.mean(gamma_hats_))"
   ]
  },
  {
   "cell_type": "code",
   "execution_count": 438,
   "id": "39bd642a-181f-4783-a5f8-bde06cc458ef",
   "metadata": {},
   "outputs": [],
   "source": [
    "import matplotlib.pyplot as plt"
   ]
  },
  {
   "cell_type": "code",
   "execution_count": 439,
   "id": "330bede5-8f5a-48bd-b2c7-d2d63fba1940",
   "metadata": {},
   "outputs": [
    {
     "data": {
      "image/png": "[encoded data removed]",
      "text/plain": [
       "<Figure size 432x288 with 1 Axes>"
      ]
     },
     "metadata": {
      "needs_background": "light"
     },
     "output_type": "display_data"
    }
   ],
   "source": [
    "plt.plot(range(10, 1000, 10), gamma_hats, label=\"$\\hat{\\gamma}$\")\n",
    "plt.plot(range(10, 1000, 10), np.ones(len(gamma_hats))*crlb_, label=\"CRLB\")\n",
    "plt.yscale(\"log\")\n",
    "plt.legend()\n",
    "plt.show()"
   ]
  },
  {
   "cell_type": "code",
   "execution_count": 414,
   "id": "ee5ce833-1fe4-49c1-8d5a-223b17a41d23",
   "metadata": {},
   "outputs": [],
   "source": [
    "gamma_hat = mle_gamma(s)"
   ]
  },
  {
   "cell_type": "code",
   "execution_count": 415,
   "id": "1ed9f794-fc82-46a9-a829-5bf9640bae60",
   "metadata": {},
   "outputs": [
    {
     "data": {
      "text/plain": [
       "49.8676999615042"
      ]
     },
     "execution_count": 415,
     "metadata": {},
     "output_type": "execute_result"
    }
   ],
   "source": [
    "gamma_hat"
   ]
  },
  {
   "cell_type": "code",
   "execution_count": 416,
   "id": "ec56ca2a-69d5-48e6-802f-10ae2a206ad4",
   "metadata": {},
   "outputs": [
    {
     "data": {
      "text/plain": [
       "0.125012501250125"
      ]
     },
     "execution_count": 416,
     "metadata": {},
     "output_type": "execute_result"
    }
   ],
   "source": [
    "crlb_gamma(x, 50)"
   ]
  },
  {
   "cell_type": "code",
   "execution_count": 417,
   "id": "e9975652-5740-4d38-95cf-747be4883554",
   "metadata": {},
   "outputs": [
    {
     "data": {
      "text/plain": [
       "49.804069999328505"
      ]
     },
     "execution_count": 417,
     "metadata": {},
     "output_type": "execute_result"
    }
   ],
   "source": [
    "np.mean(np.abs(x))"
   ]
  },
  {
   "cell_type": "code",
   "execution_count": null,
   "id": "be148e11-8cd4-4c4f-8ee0-6b3acc7f0c33",
   "metadata": {},
   "outputs": [],
   "source": [
    "np.square"
   ]
  }
 ],
 "metadata": {
  "kernelspec": {
   "display_name": "tf2",
   "language": "python",
   "name": "tf2"
  },
  "language_info": {
   "codemirror_mode": {
    "name": "ipython",
    "version": 3
   },
   "file_extension": ".py",
   "mimetype": "text/x-python",
   "name": "python",
   "nbconvert_exporter": "python",
   "pygments_lexer": "ipython3",
   "version": "3.10.4"
  }
 },
 "nbformat": 4,
 "nbformat_minor": 5
}

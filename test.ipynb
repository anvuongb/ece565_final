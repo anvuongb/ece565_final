{
 "cells": [
  {
   "cell_type": "code",
   "execution_count": 69,
   "id": "1cc478a0-7915-4ce0-8be2-cdb8c97db154",
   "metadata": {},
   "outputs": [],
   "source": [
    "import numpy as np\n",
    "from scipy.stats import norm\n",
    "import matplotlib.pyplot as plt\n",
    "import tqdm"
   ]
  },
  {
   "cell_type": "code",
   "execution_count": 48,
   "id": "2fc9b9ca-ce9f-4c35-93a1-611024f59a79",
   "metadata": {},
   "outputs": [],
   "source": [
    "sigma = 1\n",
    "gamma_list = np.arange(0.1, 10.1, 0.1)\n",
    "N_sims = 200\n",
    "N_data = 2000"
   ]
  },
  {
   "cell_type": "code",
   "execution_count": 302,
   "id": "565a96b7-f68d-4325-a9c1-6dd9accd3ab9",
   "metadata": {},
   "outputs": [],
   "source": [
    "def crlb(sigma, N):\n",
    "    return sigma**2/N\n",
    "\n",
    "def mse(s_pred, s_true):\n",
    "    return np.mean(np.square(s_pred-s_true))\n",
    "\n",
    "def mle_estimate(X):\n",
    "    return np.mean(X)\n",
    "\n",
    "def map_estimate(X, sigma, gamma):\n",
    "    thresh = sigma**2/gamma\n",
    "    ind_pos = X > thresh\n",
    "    ind_neg = X < thresh\n",
    "    \n",
    "    s = np.zeros(X.shape)\n",
    "    s[ind_pos] = X[ind_pos] - thresh\n",
    "    s[ind_neg] = X[ind_neg] + thresh\n",
    "    return s\n",
    "\n",
    "def mmse_estimate(X, sigma, gamma):\n",
    "    const = np.exp(X/gamma + sigma**2/2/(gamma**2))*norm.cdf((-X-sigma**2/gamma)/sigma) +\\\n",
    "            np.exp(-X/gamma + sigma**2/2/(gamma**2))*norm.cdf((X-sigma**2/gamma)/sigma)\n",
    "    \n",
    "    expr1 = np.exp(X/gamma + sigma**2/2/(gamma**2))*((sigma/np.sqrt(2*np.pi))*\\\n",
    "            (0-np.exp(-1/2/(sigma**2)*(X+sigma**2/gamma)**2)) + (X + sigma**2/gamma) * norm.cdf((-X-sigma**2/gamma)/sigma))\n",
    "    expr2 = -np.exp(-X/gamma + sigma**2/2/(gamma**2))*((sigma/np.sqrt(2*np.pi))*\\\n",
    "            (0-np.exp(-1/2/(sigma**2)*(X-sigma**2/gamma)**2)) - (X - sigma**2/gamma) * norm.cdf((X-sigma**2/gamma)/sigma))\n",
    "    # print(const)\n",
    "    # print(expr1)\n",
    "    # print(expr2)\n",
    "    return (expr1 + expr2)/const\n",
    "\n",
    "\n",
    "\n"
   ]
  },
  {
   "cell_type": "code",
   "execution_count": 303,
   "id": "16d645e4-d42c-435b-8868-50ff84fccc84",
   "metadata": {},
   "outputs": [
    {
     "data": {
      "text/plain": [
       "array([-16.47931003,  -3.33043126,   4.5782412 , ...,  12.91080475,\n",
       "        -0.08623338,   4.54049849])"
      ]
     },
     "execution_count": 303,
     "metadata": {},
     "output_type": "execute_result"
    }
   ],
   "source": [
    "mmse_estimate(x, sigma, gamma)"
   ]
  },
  {
   "cell_type": "code",
   "execution_count": 304,
   "id": "62a55cda-c3df-4076-a18a-c3ece321b3c7",
   "metadata": {},
   "outputs": [
    {
     "data": {
      "text/plain": [
       "0.21883856769886897"
      ]
     },
     "execution_count": 304,
     "metadata": {},
     "output_type": "execute_result"
    }
   ],
   "source": [
    "mle_estimate(x)"
   ]
  },
  {
   "cell_type": "code",
   "execution_count": 305,
   "id": "adc94d88-abda-4d85-9598-02dac0406147",
   "metadata": {},
   "outputs": [
    {
     "data": {
      "text/plain": [
       "array([-1.64793100e+01, -3.33034885e+00,  4.57824075e+00, ...,\n",
       "        1.29108048e+01,  6.65736185e-03,  4.54049795e+00])"
      ]
     },
     "execution_count": 305,
     "metadata": {},
     "output_type": "execute_result"
    }
   ],
   "source": [
    "map_estimate(x, sigma, gamma)"
   ]
  },
  {
   "cell_type": "code",
   "execution_count": 306,
   "id": "6ef2880a-0730-4fc7-87c7-2bb0c221eba1",
   "metadata": {},
   "outputs": [
    {
     "data": {
      "text/plain": [
       "array([-14.80309886,  -2.01130609,   5.96278432, ...,  13.50402075,\n",
       "        -0.64394264,   7.10301212])"
      ]
     },
     "execution_count": 306,
     "metadata": {},
     "output_type": "execute_result"
    }
   ],
   "source": [
    "s"
   ]
  },
  {
   "cell_type": "code",
   "execution_count": 307,
   "id": "507d7de4-6e98-4b9b-9349-160e0ba9aab9",
   "metadata": {},
   "outputs": [
    {
     "name": "stderr",
     "output_type": "stream",
     "text": [
      "100%|█████████████████████████████████████████| 100/100 [00:16<00:00,  5.98it/s]\n"
     ]
    }
   ],
   "source": [
    "crlb = sigma**2/N_data\n",
    "mse_mle_ret = []\n",
    "mse_map_ret = []\n",
    "mse_mmse_ret = []\n",
    "\n",
    "for gamma in tqdm.tqdm(gamma_list):\n",
    "    mse_mle = []\n",
    "    mse_map = []\n",
    "    mse_mmse = []\n",
    "\n",
    "    for i in range(N_sims):\n",
    "        n = np.random.randn(N_data)*sigma\n",
    "        s = np.random.laplace(scale=gamma, size=N_data)\n",
    "        x = n + s\n",
    "\n",
    "        s_mle = mle_estimate(x)\n",
    "        s_map = map_estimate(x, sigma, gamma)\n",
    "        s_mmse = mmse_estimate(x, sigma, gamma)\n",
    "\n",
    "        mse_mle.append(mse(s_mle, s))\n",
    "        mse_map.append(mse(s_map, s))\n",
    "        mse_mmse.append(mse(s_mmse, s))\n",
    "    \n",
    "    mse_mle_ret.append(np.mean(mse_mle))\n",
    "    mse_map_ret.append(np.mean(mse_map))\n",
    "    mse_mmse_ret.append(np.mean(mse_mmse))"
   ]
  },
  {
   "cell_type": "code",
   "execution_count": 308,
   "id": "4e006d9b-334a-43a5-abb7-4539c1913b85",
   "metadata": {},
   "outputs": [
    {
     "data": {
      "image/png": "[encoded data removed]",
      "text/plain": [
       "<Figure size 576x432 with 1 Axes>"
      ]
     },
     "metadata": {
      "needs_background": "light"
     },
     "output_type": "display_data"
    }
   ],
   "source": [
    "gamma_arr = np.array(gamma_list)**2/(sigma**2)\n",
    "\n",
    "fig = plt.figure(figsize=(8,6))\n",
    "plt.plot(gamma_arr, np.repeat(crlb, len(gamma_arr)), label=\"CRLB\")\n",
    "plt.plot(gamma_arr, mse_map_ret, label=\"MAP estimates\")\n",
    "plt.plot(gamma_arr, mse_mle_ret, label=\"MLE estimates\")\n",
    "plt.plot(gamma_arr, mse_mmse_ret, label=\"MMSE estimates\")\n",
    "plt.legend()\n",
    "plt.yscale(\"log\")\n",
    "plt.xscale(\"log\")\n",
    "plt.xlabel(\"SNR ($\\gamma^{2}/\\sigma^{2}$)\")\n",
    "plt.ylabel(\"MSE\")\n",
    "plt.grid(True)\n",
    "plt.title(\"MSE vs $\\gamma^{2}/\\sigma^{2}$\")\n",
    "plt.show()"
   ]
  },
  {
   "cell_type": "markdown",
   "id": "e91142d3-a1b8-493b-8e59-6bbe8675c06c",
   "metadata": {},
   "source": [
    "try using an image, then apply wavelet, then denoise using these estimates, then convert back"
   ]
  },
  {
   "cell_type": "markdown",
   "id": "c4480e75-77d5-4e6c-91ef-7a64ea3f7a71",
   "metadata": {},
   "source": [
    "## Gradient ascent for gamma, sigma"
   ]
  },
  {
   "cell_type": "code",
   "execution_count": 496,
   "id": "44d4ac55-7b4a-48ef-ad40-e8256bc4e38c",
   "metadata": {},
   "outputs": [],
   "source": [
    "def grad_gamma(X, gamma, sigma):\n",
    "    N = len(X)\n",
    "    \n",
    "    num1 = -X/(gamma**2)*np.exp(X/gamma)*norm.cdf((-X-sigma**2/gamma)/sigma) +\\\n",
    "            sigma/(gamma**2)*np.exp(X/gamma)*1/np.sqrt(2*np.pi)*np.exp(-1/2*((-X-sigma**2/gamma)/sigma)**2)\n",
    "    \n",
    "    num2 = X/(gamma**2)*np.exp(-X/gamma)*norm.cdf((X-sigma**2/gamma)/sigma) +\\\n",
    "            sigma/(gamma**2)*np.exp(-X/gamma)*1/np.sqrt(2*np.pi)*np.exp(-1/2*((X-sigma**2/gamma)/sigma)**2)\n",
    "    \n",
    "    denom = np.exp(X/gamma)*norm.cdf((-X-sigma**2/gamma)/sigma) +\\\n",
    "            np.exp(-X/gamma)*norm.cdf((X-sigma**2/gamma)/sigma)\n",
    "    \n",
    "    grad = -N/gamma - N*(sigma**2)/(gamma**3) + np.sum((num1 + num2)/denom)\n",
    "    \n",
    "    return grad\n",
    "\n",
    "def grad_sigma(X, gamma, sigma):\n",
    "    N = len(X)\n",
    "    \n",
    "    num1 = 1/np.sqrt(2*np.pi)*(X/(sigma**2)-1/gamma)*np.exp(X/gamma)*np.exp(-1/2*((-X-sigma**2/gamma)/sigma)**2)\n",
    "    \n",
    "    num2 = -1/np.sqrt(2*np.pi)*(X/(sigma**2)+1/gamma)*np.exp(-X/gamma)*np.exp(-1/2*((X-sigma**2/gamma)/sigma)**2)\n",
    "    \n",
    "    denom = np.exp(X/gamma)*norm.cdf((-X-sigma**2/gamma)/sigma) +\\\n",
    "            np.exp(-X/gamma)*norm.cdf((X-sigma**2/gamma)/sigma)\n",
    "    \n",
    "    grad = N*sigma/(gamma**2) + np.sum((num1 + num2)/denom)\n",
    "    \n",
    "    return grad\n",
    "    \n",
    "def ml_estimate_sigma_gamma(X, gamma_init, sigma_init, \n",
    "                            max_steps=200, step_size=0.001):\n",
    "    gamma_curr = gamma_init\n",
    "    gamma_curr_ = gamma_init\n",
    "    gamma_list = []\n",
    "    gamma_list.append(gamma_curr)\n",
    "\n",
    "    sigma_curr = sigma_init\n",
    "    sigma_curr_ = sigma_init\n",
    "    sigma_list = []\n",
    "    sigma_list.append(sigma_curr)\n",
    "\n",
    "    for i in tqdm.tqdm(np.arange(max_steps)):\n",
    "        for j in range(3):\n",
    "            grad_gamma_ = grad_gamma(X, gamma_curr_, sigma_curr)\n",
    "            # only update if gradients are not too small\n",
    "            if np.abs(grad_gamma_) >= early_stopping_ratio*np.abs(gamma_curr_):\n",
    "                gamma_curr_ = gamma_curr_ + step_size*grad_gamma_\n",
    "            else:\n",
    "                break\n",
    "        gamma_curr = gamma_curr_\n",
    "        gamma_list.append(gamma_curr)\n",
    "        \n",
    "        for j in range(3):        \n",
    "            grad_sigma_ = grad_sigma(X, gamma_curr, sigma_curr_)\n",
    "            # only update if gradients are not too small\n",
    "            if np.abs(grad_sigma_) >= early_stopping_ratio*np.abs(sigma_curr_):\n",
    "                sigma_curr_ = sigma_curr_ + step_size*grad_sigma_\n",
    "            else:\n",
    "                break\n",
    "        sigma_curr = sigma_curr_\n",
    "        sigma_list.append(sigma_curr)\n",
    "    \n",
    "    return gamma_curr, sigma_curr, gamma_list, sigma_list\n"
   ]
  },
  {
   "cell_type": "code",
   "execution_count": 502,
   "id": "0c278f9a-de76-4aea-97e3-3a065016b80f",
   "metadata": {},
   "outputs": [],
   "source": [
    "sigma = 1\n",
    "gamma = 5\n",
    "n = np.random.randn(N_data)*sigma\n",
    "s = np.random.laplace(scale=gamma, size=N_data)\n",
    "x = n + s"
   ]
  },
  {
   "cell_type": "code",
   "execution_count": 500,
   "id": "a2644ee5-c2fb-4d73-850b-a39619e57dcc",
   "metadata": {},
   "outputs": [
    {
     "name": "stdout",
     "output_type": "stream",
     "text": [
      "1.636461860603365\n",
      "5.391698337955077\n"
     ]
    }
   ],
   "source": [
    "sigma_init = sigma + np.random.randn()\n",
    "while sigma_init < 0:\n",
    "    sigma_init = sigma + np.random.randn()\n",
    "\n",
    "print(sigma_init)\n",
    "\n",
    "gamma_init = gamma + np.random.randn()\n",
    "while gamma_init < 0:\n",
    "    gamma_init = gamma + np.random.randn()\n",
    "\n",
    "print(gamma_init)"
   ]
  },
  {
   "cell_type": "code",
   "execution_count": 503,
   "id": "859f4dda-2e79-4ff0-aa2f-d4b488cb2bae",
   "metadata": {},
   "outputs": [
    {
     "name": "stderr",
     "output_type": "stream",
     "text": [
      "100%|██████████████████████████████████████| 1000/1000 [00:01<00:00, 585.52it/s]\n"
     ]
    },
    {
     "name": "stdout",
     "output_type": "stream",
     "text": [
      "0.942070322460952\n",
      "4.9419369967505835\n"
     ]
    },
    {
     "data": {
      "image/png": "[encoded data removed]",
      "text/plain": [
       "<Figure size 432x288 with 1 Axes>"
      ]
     },
     "metadata": {
      "needs_background": "light"
     },
     "output_type": "display_data"
    },
    {
     "data": {
      "image/png": "[encoded data removed]",
      "text/plain": [
       "<Figure size 432x288 with 1 Axes>"
      ]
     },
     "metadata": {
      "needs_background": "light"
     },
     "output_type": "display_data"
    }
   ],
   "source": [
    "gamma_curr, sigma_curr, gamma_list, sigma_list = ml_estimate_sigma_gamma(x, gamma_init, sigma_init, max_steps=1000)\n",
    "print(sigma_curr)\n",
    "print(gamma_curr)\n",
    "\n",
    "plt.plot(gamma_list)\n",
    "plt.show()\n",
    "plt.plot(sigma_list)\n",
    "plt.show()"
   ]
  },
  {
   "cell_type": "code",
   "execution_count": null,
   "id": "9840bc5d-31d3-4a5f-816f-7f22735df546",
   "metadata": {},
   "outputs": [],
   "source": []
  }
 ],
 "metadata": {
  "kernelspec": {
   "display_name": "tf2",
   "language": "python",
   "name": "tf2"
  },
  "language_info": {
   "codemirror_mode": {
    "name": "ipython",
    "version": 3
   },
   "file_extension": ".py",
   "mimetype": "text/x-python",
   "name": "python",
   "nbconvert_exporter": "python",
   "pygments_lexer": "ipython3",
   "version": "3.10.4"
  }
 },
 "nbformat": 4,
 "nbformat_minor": 5
}

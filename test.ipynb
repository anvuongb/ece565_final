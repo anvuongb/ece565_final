{
 "cells": [
  {
   "cell_type": "code",
   "execution_count": 69,
   "id": "1cc478a0-7915-4ce0-8be2-cdb8c97db154",
   "metadata": {},
   "outputs": [],
   "source": [
    "import numpy as np\n",
    "from scipy.stats import norm\n",
    "import matplotlib.pyplot as plt\n",
    "import tqdm"
   ]
  },
  {
   "cell_type": "code",
   "execution_count": 48,
   "id": "2fc9b9ca-ce9f-4c35-93a1-611024f59a79",
   "metadata": {},
   "outputs": [],
   "source": [
    "sigma = 1\n",
    "gamma_list = np.arange(0.1, 10.1, 0.1)\n",
    "N_sims = 200\n",
    "N_data = 2000"
   ]
  },
  {
   "cell_type": "code",
   "execution_count": 302,
   "id": "565a96b7-f68d-4325-a9c1-6dd9accd3ab9",
   "metadata": {},
   "outputs": [],
   "source": [
    "def crlb(sigma, N):\n",
    "    return sigma**2/N\n",
    "\n",
    "def mse(s_pred, s_true):\n",
    "    return np.mean(np.square(s_pred-s_true))\n",
    "\n",
    "def mle_estimate(X):\n",
    "    return np.mean(X)\n",
    "\n",
    "def map_estimate(X, sigma, gamma):\n",
    "    thresh = sigma**2/gamma\n",
    "    ind_pos = X > thresh\n",
    "    ind_neg = X < thresh\n",
    "    \n",
    "    s = np.zeros(X.shape)\n",
    "    s[ind_pos] = X[ind_pos] - thresh\n",
    "    s[ind_neg] = X[ind_neg] + thresh\n",
    "    return s\n",
    "\n",
    "def mmse_estimate(X, sigma, gamma):\n",
    "    const = np.exp(X/gamma + sigma**2/2/(gamma**2))*norm.cdf((-X-sigma**2/gamma)/sigma) +\\\n",
    "            np.exp(-X/gamma + sigma**2/2/(gamma**2))*norm.cdf((X-sigma**2/gamma)/sigma)\n",
    "    \n",
    "    expr1 = np.exp(X/gamma + sigma**2/2/(gamma**2))*((sigma/np.sqrt(2*np.pi))*\\\n",
    "            (0-np.exp(-1/2/(sigma**2)*(X+sigma**2/gamma)**2)) + (X + sigma**2/gamma) * norm.cdf((-X-sigma**2/gamma)/sigma))\n",
    "    expr2 = -np.exp(-X/gamma + sigma**2/2/(gamma**2))*((sigma/np.sqrt(2*np.pi))*\\\n",
    "            (0-np.exp(-1/2/(sigma**2)*(X-sigma**2/gamma)**2)) - (X - sigma**2/gamma) * norm.cdf((X-sigma**2/gamma)/sigma))\n",
    "    # print(const)\n",
    "    # print(expr1)\n",
    "    # print(expr2)\n",
    "    return (expr1 + expr2)/const\n",
    "\n",
    "\n",
    "\n"
   ]
  },
  {
   "cell_type": "code",
   "execution_count": 303,
   "id": "16d645e4-d42c-435b-8868-50ff84fccc84",
   "metadata": {},
   "outputs": [
    {
     "data": {
      "text/plain": [
       "array([-16.47931003,  -3.33043126,   4.5782412 , ...,  12.91080475,\n",
       "        -0.08623338,   4.54049849])"
      ]
     },
     "execution_count": 303,
     "metadata": {},
     "output_type": "execute_result"
    }
   ],
   "source": [
    "mmse_estimate(x, sigma, gamma)"
   ]
  },
  {
   "cell_type": "code",
   "execution_count": 304,
   "id": "62a55cda-c3df-4076-a18a-c3ece321b3c7",
   "metadata": {},
   "outputs": [
    {
     "data": {
      "text/plain": [
       "0.21883856769886897"
      ]
     },
     "execution_count": 304,
     "metadata": {},
     "output_type": "execute_result"
    }
   ],
   "source": [
    "mle_estimate(x)"
   ]
  },
  {
   "cell_type": "code",
   "execution_count": 305,
   "id": "adc94d88-abda-4d85-9598-02dac0406147",
   "metadata": {},
   "outputs": [
    {
     "data": {
      "text/plain": [
       "array([-1.64793100e+01, -3.33034885e+00,  4.57824075e+00, ...,\n",
       "        1.29108048e+01,  6.65736185e-03,  4.54049795e+00])"
      ]
     },
     "execution_count": 305,
     "metadata": {},
     "output_type": "execute_result"
    }
   ],
   "source": [
    "map_estimate(x, sigma, gamma)"
   ]
  },
  {
   "cell_type": "code",
   "execution_count": 306,
   "id": "6ef2880a-0730-4fc7-87c7-2bb0c221eba1",
   "metadata": {},
   "outputs": [
    {
     "data": {
      "text/plain": [
       "array([-14.80309886,  -2.01130609,   5.96278432, ...,  13.50402075,\n",
       "        -0.64394264,   7.10301212])"
      ]
     },
     "execution_count": 306,
     "metadata": {},
     "output_type": "execute_result"
    }
   ],
   "source": [
    "s"
   ]
  },
  {
   "cell_type": "code",
   "execution_count": 307,
   "id": "507d7de4-6e98-4b9b-9349-160e0ba9aab9",
   "metadata": {},
   "outputs": [
    {
     "name": "stderr",
     "output_type": "stream",
     "text": [
      "100%|█████████████████████████████████████████| 100/100 [00:16<00:00,  5.98it/s]\n"
     ]
    }
   ],
   "source": [
    "crlb = sigma**2/N_data\n",
    "mse_mle_ret = []\n",
    "mse_map_ret = []\n",
    "mse_mmse_ret = []\n",
    "\n",
    "for gamma in tqdm.tqdm(gamma_list):\n",
    "    mse_mle = []\n",
    "    mse_map = []\n",
    "    mse_mmse = []\n",
    "\n",
    "    for i in range(N_sims):\n",
    "        n = np.random.randn(N_data)*sigma\n",
    "        s = np.random.laplace(scale=gamma, size=N_data)\n",
    "        x = n + s\n",
    "\n",
    "        s_mle = mle_estimate(x)\n",
    "        s_map = map_estimate(x, sigma, gamma)\n",
    "        s_mmse = mmse_estimate(x, sigma, gamma)\n",
    "\n",
    "        mse_mle.append(mse(s_mle, s))\n",
    "        mse_map.append(mse(s_map, s))\n",
    "        mse_mmse.append(mse(s_mmse, s))\n",
    "    \n",
    "    mse_mle_ret.append(np.mean(mse_mle))\n",
    "    mse_map_ret.append(np.mean(mse_map))\n",
    "    mse_mmse_ret.append(np.mean(mse_mmse))"
   ]
  },
  {
   "cell_type": "code",
   "execution_count": 308,
   "id": "4e006d9b-334a-43a5-abb7-4539c1913b85",
   "metadata": {},
   "outputs": [
    {
     "data": {
      "image/png": "[encoded data removed]",
      "text/plain": [
       "<Figure size 576x432 with 1 Axes>"
      ]
     },
     "metadata": {
      "needs_background": "light"
     },
     "output_type": "display_data"
    }
   ],
   "source": [
    "gamma_arr = np.array(gamma_list)**2/(sigma**2)\n",
    "\n",
    "fig = plt.figure(figsize=(8,6))\n",
    "plt.plot(gamma_arr, np.repeat(crlb, len(gamma_arr)), label=\"CRLB\")\n",
    "plt.plot(gamma_arr, mse_map_ret, label=\"MAP estimates\")\n",
    "plt.plot(gamma_arr, mse_mle_ret, label=\"MLE estimates\")\n",
    "plt.plot(gamma_arr, mse_mmse_ret, label=\"MMSE estimates\")\n",
    "plt.legend()\n",
    "plt.yscale(\"log\")\n",
    "plt.xscale(\"log\")\n",
    "plt.xlabel(\"SNR ($\\gamma^{2}/\\sigma^{2}$)\")\n",
    "plt.ylabel(\"MSE\")\n",
    "plt.grid(True)\n",
    "plt.title(\"MSE vs $\\gamma^{2}/\\sigma^{2}$\")\n",
    "plt.show()"
   ]
  },
  {
   "cell_type": "markdown",
   "id": "e91142d3-a1b8-493b-8e59-6bbe8675c06c",
   "metadata": {},
   "source": [
    "try using an image, then apply wavelet, then denoise using these estimates, then convert back"
   ]
  },
  {
   "cell_type": "code",
   "execution_count": 134,
   "id": "a77a53a5-268e-4fed-adaa-375083d898a0",
   "metadata": {},
   "outputs": [
    {
     "data": {
      "text/plain": [
       "[4.982229199561256e+93, 1.0987942446175979e+38]"
      ]
     },
     "execution_count": 134,
     "metadata": {},
     "output_type": "execute_result"
    }
   ],
   "source": [
    "mse_mmse_ret"
   ]
  },
  {
   "cell_type": "code",
   "execution_count": 53,
   "id": "8868a3da-95c6-45d5-9eea-78a61613d3c4",
   "metadata": {},
   "outputs": [
    {
     "data": {
      "text/plain": [
       "0.9909878246286019"
      ]
     },
     "execution_count": 53,
     "metadata": {},
     "output_type": "execute_result"
    }
   ],
   "source": [
    "mse(s_map, s)"
   ]
  },
  {
   "cell_type": "code",
   "execution_count": 63,
   "id": "12d5c5ae-e10d-405f-9f47-94ded3b8ca3e",
   "metadata": {},
   "outputs": [
    {
     "data": {
      "text/plain": [
       "0.48612049442904354"
      ]
     },
     "execution_count": 63,
     "metadata": {},
     "output_type": "execute_result"
    }
   ],
   "source": [
    "s_mle"
   ]
  },
  {
   "cell_type": "code",
   "execution_count": 56,
   "id": "608dc9a9-573e-4bb7-9781-fd6f125ce94f",
   "metadata": {},
   "outputs": [
    {
     "data": {
      "text/plain": [
       "array([-0.07955775,  7.42270861,  8.1597798 , ...,  8.46293759,\n",
       "        9.74502016, 26.7596847 ])"
      ]
     },
     "execution_count": 56,
     "metadata": {},
     "output_type": "execute_result"
    }
   ],
   "source": [
    "s"
   ]
  },
  {
   "cell_type": "code",
   "execution_count": 54,
   "id": "2fb4cb9d-1014-441d-af5a-34c3a669f66b",
   "metadata": {},
   "outputs": [
    {
     "data": {
      "text/plain": [
       "array([ 2.36459175,  8.4983341 ,  9.41444934, ...,  9.0886641 ,\n",
       "        9.26603935, 26.3110743 ])"
      ]
     },
     "execution_count": 54,
     "metadata": {},
     "output_type": "execute_result"
    }
   ],
   "source": [
    "s_map"
   ]
  },
  {
   "cell_type": "code",
   "execution_count": 59,
   "id": "a518a96f-1944-4e91-bdcf-a839ad164eec",
   "metadata": {},
   "outputs": [
    {
     "data": {
      "text/plain": [
       "0.9909878246286019"
      ]
     },
     "execution_count": 59,
     "metadata": {},
     "output_type": "execute_result"
    }
   ],
   "source": [
    "np.mean((s_map - s)**2)"
   ]
  },
  {
   "cell_type": "code",
   "execution_count": null,
   "id": "4600aecb-1032-45cf-9f78-919da76594e5",
   "metadata": {},
   "outputs": [],
   "source": []
  },
  {
   "cell_type": "code",
   "execution_count": 10,
   "id": "c18bbdfa-bb3b-47e6-817f-13423876452d",
   "metadata": {},
   "outputs": [
    {
     "data": {
      "image/png": "[encoded data removed]",
      "text/plain": [
       "<Figure size 432x288 with 1 Axes>"
      ]
     },
     "metadata": {
      "needs_background": "light"
     },
     "output_type": "display_data"
    }
   ],
   "source": [
    "plt.hist(x, bins=20)\n",
    "plt.show()"
   ]
  },
  {
   "cell_type": "code",
   "execution_count": null,
   "id": "47d35e35-0280-4120-b6d9-ffa65f9d367e",
   "metadata": {},
   "outputs": [],
   "source": []
  }
 ],
 "metadata": {
  "kernelspec": {
   "display_name": "tf2",
   "language": "python",
   "name": "tf2"
  },
  "language_info": {
   "codemirror_mode": {
    "name": "ipython",
    "version": 3
   },
   "file_extension": ".py",
   "mimetype": "text/x-python",
   "name": "python",
   "nbconvert_exporter": "python",
   "pygments_lexer": "ipython3",
   "version": "3.10.4"
  }
 },
 "nbformat": 4,
 "nbformat_minor": 5
}
